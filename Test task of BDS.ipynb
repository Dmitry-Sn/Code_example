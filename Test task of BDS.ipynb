{
 "cells": [
  {
   "cell_type": "code",
   "execution_count": 1,
   "metadata": {},
   "outputs": [],
   "source": [
    "09:30:01.034,36.99,100,V\n",
    "09:30:55.000,37.08,205,V\n",
    "09:30:55.554,36.90,54,V\n",
    "09:30:55.556,36.91,99,D\n",
    "09:31:01.033,36.94,100,D\n",
    "09:31:01.034,36.95,900,V\n",
    "09:34:41.134,36.54,600,V\n",
    "09:34:42.034,36.95,900,V\n",
    "09:34:43.034,36.95,900,V\n",
    "09:34:44.034,36.95,900,V\n",
    "09:34:45.034,36.95,900,V\n",
    "09:36:45.034,36.95,900,V\n",
    "09:37:48.034,36.95,900,V"
   ]
  },
  {
   "cell_type": "code",
   "execution_count": 2,
   "metadata": {},
   "outputs": [
    {
     "name": "stdout",
     "output_type": "stream",
     "text": [
      "0\n"
     ]
    }
   ],
   "source": [
    "df = input().split()"
   ]
  },
  {
   "cell_type": "code",
   "execution_count": null,
   "metadata": {},
   "outputs": [],
   "source": [
    "df"
   ]
  },
  {
   "cell_type": "code",
   "execution_count": null,
   "metadata": {},
   "outputs": [],
   "source": [
    "df = []\n",
    "while True:\n",
    "    line = input()\n",
    "    if line:\n",
    "        df.append(line)\n",
    "    else:\n",
    "        break"
   ]
  },
  {
   "cell_type": "code",
   "execution_count": null,
   "metadata": {},
   "outputs": [],
   "source": [
    "df"
   ]
  },
  {
   "cell_type": "code",
   "execution_count": null,
   "metadata": {},
   "outputs": [],
   "source": [
    "\n",
    "print(df)\n",
    "s = []\n",
    "exch = []\n",
    "for i in range(len(df)):\n",
    "    s.append(int(df[i][0:2])*3600 + int(df[i][3:5])*60 + float(df[i][6:12]))\n",
    "    exch.append(str(df[i][-1]))\n",
    "v_count = 0\n",
    "d_count = 0\n",
    "V = []\n",
    "D = []\n",
    "for i in range(len(s)-1):\n",
    "    if s[i+1] - s[i] <= 60:\n",
    "        if exch[i] == 'V':\n",
    "            v_count += 1\n",
    "        elif exch[i] == 'D':\n",
    "            d_count += 1\n",
    "    else:\n",
    "        v_count = 0\n",
    "        d_count = 0\n",
    "    V.append(v_count)\n",
    "    D.append(d_count)\n",
    "print(max(V))\n",
    "print(max(D))"
   ]
  },
  {
   "cell_type": "code",
   "execution_count": 255,
   "metadata": {},
   "outputs": [
    {
     "data": {
      "text/plain": [
       "26"
      ]
     },
     "execution_count": 255,
     "metadata": {},
     "output_type": "execute_result"
    }
   ],
   "source": [
    "len(s)-1\n",
    "    while j <= len(s)-2:\n",
    "        j += 1"
   ]
  },
  {
   "cell_type": "code",
   "execution_count": 293,
   "metadata": {},
   "outputs": [
    {
     "name": "stdout",
     "output_type": "stream",
     "text": [
      "2\n",
      "4\n",
      "1\n",
      "7\n",
      "2\n"
     ]
    },
    {
     "name": "stderr",
     "output_type": "stream",
     "text": [
      "C:\\Users\\knigo\\Anaconda3\\lib\\site-packages\\ipykernel_launcher.py:2: VisibleDeprecationWarning: Reading unicode strings without specifying the encoding argument is deprecated. Set the encoding, use None for the system default.\n",
      "  \n"
     ]
    },
    {
     "data": {
      "text/plain": [
       "[\"b'A'\", \"b'D'\", \"b'TA'\", \"b'V'\", \"b'W'\"]"
      ]
     },
     "execution_count": 293,
     "metadata": {},
     "output_type": "execute_result"
    }
   ],
   "source": [
    "from numpy import genfromtxt\n",
    "df = genfromtxt('task_.csv', delimiter=',',dtype=None)\n",
    "s = []\n",
    "exch = []\n",
    "for i in range(len(df)):\n",
    "    s.append(int(df[i][0][0:2])*3600 + int(df[i][0][3:5])*60 + float(df[i][0][6:]))\n",
    "    exch.append(str(df[i][3]))\n",
    "x2 = time.time()\n",
    "ex_un = set()\n",
    "for x in exch:\n",
    "    ex_un.add(x)\n",
    "ex_un = list(ex_un)\n",
    "ex_un.sort()\n",
    "un = set()\n",
    "counter = [1] * len(ex_un)\n",
    "V = []\n",
    "for i in range(len(s) - 1):\n",
    "    V.append(counter)\n",
    "    counter = [0] * len(ex_un)\n",
    "    for j in range(1, len(s)):\n",
    "        if s[j] - s[i] < 60 and j >= i:\n",
    "            un.add(exch[j])\n",
    "            if exch[j] in un:\n",
    "                counter[ex_un.index(exch[j])] += 1\n",
    "def column(m, i):\n",
    "    return [row[i] for row in m]\n",
    "\n",
    "for i in range(len(ex_un)):\n",
    "    print(max(column(V, i)))\n",
    "ex_un"
   ]
  },
  {
   "cell_type": "code",
   "execution_count": 316,
   "metadata": {},
   "outputs": [
    {
     "name": "stdout",
     "output_type": "stream",
     "text": [
      "0 i 0 j\n",
      "0 0 diff 0.0\n",
      "0\n",
      "0 1 diff 53.96600000000035\n",
      "1\n",
      "0 2 diff 54.5199999999968\n",
      "2\n",
      "0 3 diff 54.5199999999968\n",
      "3\n",
      "0 4 diff 54.5199999999968\n",
      "4\n",
      "0 5 diff 54.521999999997206\n",
      "5\n",
      "0 6 diff 59.999000000003434\n",
      "6\n",
      "с = [0, 4, 0, 6, 4] на шаге 0\n",
      "1 i 7 j\n",
      "1 7 diff 6.033999999999651\n",
      "7\n",
      "с = [0, 0, 0, 2, 0] на шаге 1\n",
      "2 i 8 j\n",
      "с = [0, 0, 0, 0, 0] на шаге 2\n",
      "3 i 8 j\n",
      "с = [0, 0, 0, 0, 0] на шаге 3\n",
      "4 i 8 j\n",
      "с = [0, 0, 0, 0, 0] на шаге 4\n",
      "5 i 8 j\n",
      "с = [0, 0, 0, 0, 0] на шаге 5\n",
      "6 i 8 j\n",
      "с = [0, 0, 0, 0, 0] на шаге 6\n",
      "7 i 8 j\n",
      "с = [0, 0, 0, 0, 0] на шаге 7\n",
      "8 i 8 j\n",
      "8 8 diff 0.0\n",
      "8\n",
      "8 9 diff 13.0\n",
      "9\n",
      "8 10 diff 13.000999999996566\n",
      "10\n",
      "8 11 diff 14.0\n",
      "11\n",
      "8 12 diff 54.10099999999511\n",
      "12\n",
      "8 13 diff 54.10199999999895\n",
      "13\n",
      "8 14 diff 55.000999999996566\n",
      "14\n",
      "8 15 diff 56.000999999996566\n",
      "15\n",
      "8 16 diff 57.000999999996566\n",
      "16\n",
      "8 17 diff 58.000999999996566\n",
      "17\n",
      "8 18 diff 59.0\n",
      "18\n",
      "8 19 diff 59.0109999999986\n",
      "19\n",
      "с = [4, 8, 0, 12, 0] на шаге 8\n",
      "9 i 20 j\n",
      "9 20 diff 47.0\n",
      "20\n",
      "9 21 diff 48.0\n",
      "21\n",
      "9 22 diff 49.0\n",
      "22\n",
      "с = [0, 2, 0, 2, 2] на шаге 9\n",
      "10 i 23 j\n",
      "с = [0, 0, 0, 0, 0] на шаге 10\n",
      "11 i 23 j\n",
      "с = [0, 0, 0, 0, 0] на шаге 11\n",
      "12 i 23 j\n",
      "с = [0, 0, 0, 0, 0] на шаге 12\n",
      "13 i 23 j\n",
      "13 23 diff 59.99899999999616\n",
      "23\n",
      "с = [0, 0, 0, 2, 0] на шаге 13\n",
      "14 i 24 j\n",
      "с = [0, 0, 0, 0, 0] на шаге 14\n",
      "15 i 24 j\n",
      "15 24 diff 59.099999999998545\n",
      "24\n",
      "с = [0, 0, 2, 0, 0] на шаге 15\n",
      "16 i 25 j\n",
      "с = [0, 0, 0, 0, 0] на шаге 16\n",
      "17 i 25 j\n",
      "с = [0, 0, 0, 0, 0] на шаге 17\n",
      "18 i 25 j\n",
      "с = [0, 0, 0, 0, 0] на шаге 18\n",
      "19 i 25 j\n",
      "с = [0, 0, 0, 0, 0] на шаге 19\n",
      "20 i 25 j\n",
      "с = [0, 0, 0, 0, 0] на шаге 20\n",
      "21 i 25 j\n",
      "с = [0, 0, 0, 0, 0] на шаге 21\n",
      "22 i 25 j\n",
      "с = [0, 0, 0, 0, 0] на шаге 22\n",
      "23 i 25 j\n",
      "с = [0, 0, 0, 0, 0] на шаге 23\n",
      "24 i 25 j\n",
      "с = [0, 0, 0, 0, 0] на шаге 24\n",
      "25 i 25 j\n",
      "25 25 diff 0.0\n",
      "25\n",
      "с = [0, 0, 0, 2, 0] на шаге 25\n",
      "4\n",
      "8\n",
      "2\n",
      "12\n",
      "4\n"
     ]
    },
    {
     "name": "stderr",
     "output_type": "stream",
     "text": [
      "C:\\Users\\knigo\\Anaconda3\\lib\\site-packages\\ipykernel_launcher.py:2: VisibleDeprecationWarning: Reading unicode strings without specifying the encoding argument is deprecated. Set the encoding, use None for the system default.\n",
      "  \n"
     ]
    }
   ],
   "source": [
    "from numpy import genfromtxt\n",
    "df = genfromtxt('task_.csv', delimiter=',',dtype=None)\n",
    "s = []\n",
    "exch = []\n",
    "for i in range(len(df)):\n",
    "    s.append(int(df[i][0][0:2])*3600 + int(df[i][0][3:5])*60 + float(df[i][0][6:]))\n",
    "    exch.append(str(df[i][3]))\n",
    "x2 = time.time()\n",
    "ex_un = set()\n",
    "for x in exch:\n",
    "    ex_un.add(x)\n",
    "ex_un = list(ex_un)\n",
    "ex_un.sort()\n",
    "un = set()\n",
    "counter = [1] * len(ex_un)\n",
    "V = []\n",
    "j = 0\n",
    "for i in range(len(s) - 1):\n",
    "    V.append(counter)\n",
    "    counter = [0] * len(ex_un)\n",
    "    print(i, 'i', j, 'j')\n",
    "    while j <= len(s)-2:\n",
    "        if s[j] - s[i] < 60:\n",
    "            counter[ex_un.index(exch[j])] += 1\n",
    "            print(i, j, 'diff', s[j] - s[i])\n",
    "            un.add(exch[j])\n",
    "            if exch[j] in un:\n",
    "                counter[ex_un.index(exch[j])] += 1\n",
    "            print(j)\n",
    "            j += 1\n",
    "        else:\n",
    "            break\n",
    "    \n",
    "    print('с =', counter, 'на шаге', i)\n",
    "\n",
    "def column(m, i):\n",
    "    return [row[i] for row in m]\n",
    "\n",
    "for i in range(len(ex_un)):\n",
    "    print(max(column(V, i)))"
   ]
  },
  {
   "cell_type": "code",
   "execution_count": 292,
   "metadata": {
    "scrolled": true
   },
   "outputs": [
    {
     "data": {
      "text/plain": [
       "[[1, 1, 1, 1, 1],\n",
       " [0, 2, 0, 3, 2],\n",
       " [0, 0, 0, 1, 0],\n",
       " [0, 0, 0, 0, 0],\n",
       " [0, 0, 0, 0, 0],\n",
       " [0, 0, 0, 0, 0],\n",
       " [0, 0, 0, 0, 0],\n",
       " [0, 0, 0, 0, 0],\n",
       " [0, 0, 0, 0, 0],\n",
       " [2, 4, 0, 6, 0],\n",
       " [0, 1, 0, 1, 1],\n",
       " [0, 0, 0, 0, 0],\n",
       " [0, 0, 0, 0, 0],\n",
       " [0, 0, 0, 0, 0],\n",
       " [0, 0, 0, 1, 0],\n",
       " [0, 0, 0, 0, 0],\n",
       " [0, 0, 1, 0, 0],\n",
       " [0, 0, 0, 0, 0],\n",
       " [0, 0, 0, 0, 0],\n",
       " [0, 0, 0, 0, 0],\n",
       " [0, 0, 0, 0, 0],\n",
       " [0, 0, 0, 0, 0],\n",
       " [0, 0, 0, 0, 0],\n",
       " [0, 0, 0, 0, 0],\n",
       " [0, 0, 0, 0, 0],\n",
       " [0, 0, 0, 0, 0]]"
      ]
     },
     "execution_count": 292,
     "metadata": {},
     "output_type": "execute_result"
    }
   ],
   "source": [
    "V"
   ]
  },
  {
   "cell_type": "code",
   "execution_count": 298,
   "metadata": {},
   "outputs": [
    {
     "ename": "TypeError",
     "evalue": "unsupported operand type(s) for -: 'list' and 'int'",
     "output_type": "error",
     "traceback": [
      "\u001b[1;31m---------------------------------------------------------------------------\u001b[0m",
      "\u001b[1;31mTypeError\u001b[0m                                 Traceback (most recent call last)",
      "\u001b[1;32m<ipython-input-298-eddb99e704fd>\u001b[0m in \u001b[0;36m<module>\u001b[1;34m()\u001b[0m\n\u001b[1;32m----> 1\u001b[1;33m \u001b[0mV\u001b[0m\u001b[1;33m[\u001b[0m\u001b[1;36m2\u001b[0m\u001b[1;33m]\u001b[0m \u001b[1;33m-\u001b[0m \u001b[1;36m1\u001b[0m\u001b[1;33m\u001b[0m\u001b[0m\n\u001b[0m",
      "\u001b[1;31mTypeError\u001b[0m: unsupported operand type(s) for -: 'list' and 'int'"
     ]
    }
   ],
   "source": [
    "V[2] - 1"
   ]
  },
  {
   "cell_type": "code",
   "execution_count": 281,
   "metadata": {},
   "outputs": [
    {
     "name": "stdout",
     "output_type": "stream",
     "text": [
      "1\n",
      "1\n"
     ]
    },
    {
     "name": "stderr",
     "output_type": "stream",
     "text": [
      "C:\\Users\\knigo\\Anaconda3\\lib\\site-packages\\ipykernel_launcher.py:2: VisibleDeprecationWarning: Reading unicode strings without specifying the encoding argument is deprecated. Set the encoding, use None for the system default.\n",
      "  \n"
     ]
    }
   ],
   "source": [
    "from numpy import genfromtxt\n",
    "df = genfromtxt('task__.csv', delimiter=',',dtype=None)\n",
    "s = []\n",
    "exch = []\n",
    "for i in range(len(df)):\n",
    "    s.append(int(df[i][0][0:2])*3600 + int(df[i][0][3:5])*60 + float(df[i][0][6:]))\n",
    "    exch.append(str(df[i][3], 'utf-8'))\n",
    "ex_un = set()\n",
    "for x in exch:\n",
    "    ex_un.add(x)\n",
    "ex_un = list(ex_un)\n",
    "ex_un.sort()\n",
    "v_count = 0\n",
    "d_count = 0\n",
    "V = []\n",
    "D = []\n",
    "for i in range(len(s) - 1):\n",
    "    for j in range(1, len(s)):\n",
    "        if s[j] - s[i] < 60 and j >= i:\n",
    "            if exch[j] == 'V':\n",
    "                v_count += 1\n",
    "            elif exch[j] == 'D':\n",
    "                d_count += 1\n",
    "        else:\n",
    "            v_count = 0\n",
    "            d_count = 0\n",
    "        V.append(v_count)\n",
    "        D.append(d_count)\n",
    "print(max(D))\n",
    "print(max(V))"
   ]
  },
  {
   "cell_type": "code",
   "execution_count": 169,
   "metadata": {},
   "outputs": [
    {
     "ename": "SyntaxError",
     "evalue": "invalid syntax (<ipython-input-169-2b8cf6d9f730>, line 3)",
     "output_type": "error",
     "traceback": [
      "\u001b[1;36m  File \u001b[1;32m\"<ipython-input-169-2b8cf6d9f730>\"\u001b[1;36m, line \u001b[1;32m3\u001b[0m\n\u001b[1;33m    for i in range(len(ex_un):\u001b[0m\n\u001b[1;37m                             ^\u001b[0m\n\u001b[1;31mSyntaxError\u001b[0m\u001b[1;31m:\u001b[0m invalid syntax\n"
     ]
    }
   ],
   "source": [
    "def column(m, i):\n",
    "    return [row[i] for row in m]\n",
    "\n",
    "for i in range(len(ex_un)):\n",
    "    print(max(column(V, i)))"
   ]
  },
  {
   "cell_type": "code",
   "execution_count": 88,
   "metadata": {},
   "outputs": [],
   "source": [
    "ex_un = set()\n",
    "for x in exch:\n",
    "    ex_un.add(x)\n",
    "ex_un = list(ex_un)\n",
    "ex_un.sort()"
   ]
  },
  {
   "cell_type": "code",
   "execution_count": 92,
   "metadata": {},
   "outputs": [
    {
     "name": "stdout",
     "output_type": "stream",
     "text": [
      "0\n",
      "1\n"
     ]
    }
   ],
   "source": [
    "for lett in ex_un:\n",
    "    print(ex_un.index(lett))"
   ]
  },
  {
   "cell_type": "code",
   "execution_count": 142,
   "metadata": {},
   "outputs": [
    {
     "data": {
      "text/plain": [
       "{'A', 'D', 'V', 'W'}"
      ]
     },
     "execution_count": 142,
     "metadata": {},
     "output_type": "execute_result"
    }
   ],
   "source": [
    "o = set()\n",
    "o.add('V')\n",
    "o.add('D')\n",
    "o.add('A')\n",
    "o.add('W')\n",
    "o"
   ]
  },
  {
   "cell_type": "code",
   "execution_count": 104,
   "metadata": {},
   "outputs": [
    {
     "name": "stdout",
     "output_type": "stream",
     "text": [
      "['D', 'V']\n"
     ]
    }
   ],
   "source": [
    "output = set()\n",
    "for x in exch:\n",
    "    output.add(x)\n",
    "o = list(output)\n",
    "print(o)"
   ]
  },
  {
   "cell_type": "code",
   "execution_count": 74,
   "metadata": {},
   "outputs": [],
   "source": [
    "o.sort()"
   ]
  },
  {
   "cell_type": "code",
   "execution_count": 101,
   "metadata": {},
   "outputs": [],
   "source": [
    "o = []\n",
    "o.append(0)\n",
    "o.append(0)"
   ]
  },
  {
   "cell_type": "code",
   "execution_count": 230,
   "metadata": {},
   "outputs": [
    {
     "name": "stdout",
     "output_type": "stream",
     "text": [
      "[('09:30:01.034', ['36.99', '100', 'V\\n']), ('09:30:55.000', ['37.08', '205', 'V\\n']), ('09:30:55.554', ['36.90', '54', 'W\\n']), ('09:30:55.554', ['36.90', '54', 'V\\n']), ('09:30:55.554', ['36.90', '54', 'W\\n']), ('09:30:55.556', ['36.91', '99', 'D\\n']), ('09:31:01.033', ['36.94', '100', 'D\\n']), ('09:31:01.034', ['36.95', '900', 'V\\n']), ('09:33:47.033', ['36.94', '100', 'D\\n']), ('09:34:00.033', ['36.94', '100', 'D\\n']), ('09:34:00.034', ['36.94', '100', 'A\\n']), ('09:34:01.033', ['36.94', '100', 'D\\n']), ('09:34:41.134', ['36.54', '600', 'V\\n']), ('09:34:41.135', ['36.54', '600', 'A\\n']), ('09:34:42.034', ['36.95', '900', 'V\\n']), ('09:34:43.034', ['36.95', '900', 'V\\n']), ('09:34:44.034', ['36.95', '900', 'V\\n']), ('09:34:45.034', ['36.95', '900', 'V\\n']), ('09:34:46.033', ['36.94', '100', 'D\\n']), ('09:34:46.044', ['36.94', '100', 'V\\n']), ('09:34:47.033', ['36.94', '100', 'D\\n']), ('09:34:48.033', ['36.94', '100', 'V\\n']), ('09:34:49.033', ['36.94', '100', 'W\\n']), ('09:35:41.134', ['36.54', '600', 'V\\n']), ('09:35:42.134', ['36.54', '600', 'TA\\n']), ('09:36:45.034', ['36.95', '900', 'V\\n']), ('09:37:48.034', ['36.95', '900', 'V\\n'])]\n",
      "0.0009970664978027344\n"
     ]
    }
   ],
   "source": [
    "x6 = time.time()\n",
    "with open('task_.csv', 'r') as f:\n",
    "    results = []\n",
    "    for line in f:\n",
    "            words = line.split(',')\n",
    "            results.append((words[0], words[1:]))\n",
    "    print(results)\n",
    "x5 = time.time()\n",
    "print(x5-x6)"
   ]
  },
  {
   "cell_type": "code",
   "execution_count": 227,
   "metadata": {},
   "outputs": [
    {
     "data": {
      "text/plain": [
       "('09:30:01.034', ['36.99', '100', 'V\\n'])"
      ]
     },
     "execution_count": 227,
     "metadata": {},
     "output_type": "execute_result"
    }
   ],
   "source": [
    "results[0]"
   ]
  },
  {
   "cell_type": "code",
   "execution_count": 162,
   "metadata": {},
   "outputs": [
    {
     "data": {
      "text/plain": [
       "2"
      ]
     },
     "execution_count": 162,
     "metadata": {},
     "output_type": "execute_result"
    }
   ],
   "source": [
    "def column(m, i):\n",
    "    return [row[i] for row in m]\n",
    "max(column(r, 1))"
   ]
  },
  {
   "cell_type": "code",
   "execution_count": 172,
   "metadata": {},
   "outputs": [
    {
     "name": "stdout",
     "output_type": "stream",
     "text": [
      "1\n",
      "1\n"
     ]
    },
    {
     "name": "stderr",
     "output_type": "stream",
     "text": [
      "C:\\Users\\knigo\\Anaconda3\\lib\\site-packages\\ipykernel_launcher.py:2: VisibleDeprecationWarning: Reading unicode strings without specifying the encoding argument is deprecated. Set the encoding, use None for the system default.\n",
      "  \n"
     ]
    }
   ],
   "source": [
    "from numpy import genfromtxt\n",
    "df = genfromtxt('task__.csv', delimiter=',',dtype=None)\n",
    "s = []\n",
    "exch = []\n",
    "for i in range(len(df)):\n",
    "    s.append(int(df[i][0][0:2])*3600 + int(df[i][0][3:5])*60 + float(df[i][0][6:]))\n",
    "    exch.append(str(df[i][3], 'utf-8'))\n",
    "ex_un = set()\n",
    "for x in exch:\n",
    "    ex_un.add(x)\n",
    "ex_un = list(ex_un)\n",
    "ex_un.sort()\n",
    "v_count = 0\n",
    "d_count = 0\n",
    "V = []\n",
    "D = []\n",
    "for i in range(len(s) - 1):\n",
    "    for j in range(1, len(s)):\n",
    "        if s[j] - s[i] < 60 and j >= i:\n",
    "            if exch[j] == 'V':\n",
    "                v_count += 1\n",
    "            elif exch[j] == 'D':\n",
    "                d_count += 1\n",
    "        else:\n",
    "            v_count = 0\n",
    "            d_count = 0\n",
    "        V.append(v_count)\n",
    "        D.append(d_count)\n",
    "print(max(D))\n",
    "print(max(V))"
   ]
  },
  {
   "cell_type": "code",
   "execution_count": null,
   "metadata": {},
   "outputs": [],
   "source": []
  }
 ],
 "metadata": {
  "kernelspec": {
   "display_name": "Python 3",
   "language": "python",
   "name": "python3"
  },
  "language_info": {
   "codemirror_mode": {
    "name": "ipython",
    "version": 3
   },
   "file_extension": ".py",
   "mimetype": "text/x-python",
   "name": "python",
   "nbconvert_exporter": "python",
   "pygments_lexer": "ipython3",
   "version": "3.6.5"
  }
 },
 "nbformat": 4,
 "nbformat_minor": 2
}
