{
 "cells": [
  {
   "cell_type": "markdown",
   "metadata": {},
   "source": [
    "# Test task notebook"
   ]
  },
  {
   "cell_type": "markdown",
   "metadata": {},
   "source": [
    "### В данном ноутбуке проводится анализ двух датасетов по продуктивности конкретного пользователя (данные взяты из query_result'ов, предоставленных тестовым заданием)."
   ]
  },
  {
   "cell_type": "code",
   "execution_count": 1,
   "metadata": {},
   "outputs": [],
   "source": [
    "import pandas as pd\n",
    "import numpy as np\n",
    "import seaborn as sns\n",
    "import matplotlib.pyplot as plt"
   ]
  },
  {
   "cell_type": "markdown",
   "metadata": {},
   "source": [
    "### Первый датасет"
   ]
  },
  {
   "cell_type": "code",
   "execution_count": 2,
   "metadata": {},
   "outputs": [
    {
     "name": "stdout",
     "output_type": "stream",
     "text": [
      "(330, 17)\n"
     ]
    },
    {
     "data": {
      "text/html": [
       "<div>\n",
       "<style scoped>\n",
       "    .dataframe tbody tr th:only-of-type {\n",
       "        vertical-align: middle;\n",
       "    }\n",
       "\n",
       "    .dataframe tbody tr th {\n",
       "        vertical-align: top;\n",
       "    }\n",
       "\n",
       "    .dataframe thead th {\n",
       "        text-align: right;\n",
       "    }\n",
       "</style>\n",
       "<table border=\"1\" class=\"dataframe\">\n",
       "  <thead>\n",
       "    <tr style=\"text-align: right;\">\n",
       "      <th></th>\n",
       "      <th>ID</th>\n",
       "      <th>Activity</th>\n",
       "      <th>Category</th>\n",
       "      <th>Created At</th>\n",
       "      <th>Data Revision</th>\n",
       "      <th>Metadata</th>\n",
       "      <th>Productivity</th>\n",
       "      <th>Refer Date</th>\n",
       "      <th>Seconds</th>\n",
       "      <th>Source Group</th>\n",
       "      <th>Source Name</th>\n",
       "      <th>Source Type</th>\n",
       "      <th>Technical ID</th>\n",
       "      <th>Time End</th>\n",
       "      <th>Time Offset</th>\n",
       "      <th>Time Start</th>\n",
       "      <th>Updated At</th>\n",
       "    </tr>\n",
       "  </thead>\n",
       "  <tbody>\n",
       "    <tr>\n",
       "      <th>0</th>\n",
       "      <td>32394649</td>\n",
       "      <td>Google Chrome</td>\n",
       "      <td>Browsers</td>\n",
       "      <td>2019-08-03T03:48:43.138+03:00</td>\n",
       "      <td>1</td>\n",
       "      <td>{}</td>\n",
       "      <td>0</td>\n",
       "      <td>03-08-19</td>\n",
       "      <td>4</td>\n",
       "      <td>RescueTime</td>\n",
       "      <td>RescueTime</td>\n",
       "      <td>api</td>\n",
       "      <td>3fc287b0fd82918951948c92fe0d2ea7ab866e731362ac...</td>\n",
       "      <td>2019-08-02T21:00:00.000+03:00</td>\n",
       "      <td>0</td>\n",
       "      <td>2019-08-02T21:00:00.000+03:00</td>\n",
       "      <td>2019-08-03T03:48:43.138+03:00</td>\n",
       "    </tr>\n",
       "    <tr>\n",
       "      <th>1</th>\n",
       "      <td>32394629</td>\n",
       "      <td>apps.apple.com</td>\n",
       "      <td>Engineering &amp; Technology</td>\n",
       "      <td>2019-08-03T03:48:43.012+03:00</td>\n",
       "      <td>1</td>\n",
       "      <td>{}</td>\n",
       "      <td>1</td>\n",
       "      <td>03-08-19</td>\n",
       "      <td>27</td>\n",
       "      <td>RescueTime</td>\n",
       "      <td>RescueTime</td>\n",
       "      <td>api</td>\n",
       "      <td>3fc287b0fd82918951948c92fe0d2ea7ab866e731362ac...</td>\n",
       "      <td>2019-08-02T21:00:00.000+03:00</td>\n",
       "      <td>0</td>\n",
       "      <td>2019-08-02T21:00:00.000+03:00</td>\n",
       "      <td>2019-08-03T03:48:43.012+03:00</td>\n",
       "    </tr>\n",
       "    <tr>\n",
       "      <th>2</th>\n",
       "      <td>32394621</td>\n",
       "      <td>metabase.welltory.com</td>\n",
       "      <td>Health &amp; Medicine</td>\n",
       "      <td>2019-08-03T03:48:42.931+03:00</td>\n",
       "      <td>1</td>\n",
       "      <td>{}</td>\n",
       "      <td>1</td>\n",
       "      <td>03-08-19</td>\n",
       "      <td>92</td>\n",
       "      <td>RescueTime</td>\n",
       "      <td>RescueTime</td>\n",
       "      <td>api</td>\n",
       "      <td>3fc287b0fd82918951948c92fe0d2ea7ab866e731362ac...</td>\n",
       "      <td>2019-08-02T21:00:00.000+03:00</td>\n",
       "      <td>0</td>\n",
       "      <td>2019-08-02T21:00:00.000+03:00</td>\n",
       "      <td>2019-08-03T03:48:42.931+03:00</td>\n",
       "    </tr>\n",
       "    <tr>\n",
       "      <th>3</th>\n",
       "      <td>32394607</td>\n",
       "      <td>business.facebook.com</td>\n",
       "      <td>Marketing</td>\n",
       "      <td>2019-08-03T03:48:42.849+03:00</td>\n",
       "      <td>1</td>\n",
       "      <td>{}</td>\n",
       "      <td>2</td>\n",
       "      <td>03-08-19</td>\n",
       "      <td>352</td>\n",
       "      <td>RescueTime</td>\n",
       "      <td>RescueTime</td>\n",
       "      <td>api</td>\n",
       "      <td>3fc287b0fd82918951948c92fe0d2ea7ab866e731362ac...</td>\n",
       "      <td>2019-08-02T21:00:00.000+03:00</td>\n",
       "      <td>0</td>\n",
       "      <td>2019-08-02T21:00:00.000+03:00</td>\n",
       "      <td>2019-08-03T03:48:42.849+03:00</td>\n",
       "    </tr>\n",
       "    <tr>\n",
       "      <th>4</th>\n",
       "      <td>32394634</td>\n",
       "      <td>telegram</td>\n",
       "      <td>Instant Message</td>\n",
       "      <td>2019-08-03T03:48:43.047+03:00</td>\n",
       "      <td>1</td>\n",
       "      <td>{}</td>\n",
       "      <td>0</td>\n",
       "      <td>03-08-19</td>\n",
       "      <td>353</td>\n",
       "      <td>RescueTime</td>\n",
       "      <td>RescueTime</td>\n",
       "      <td>api</td>\n",
       "      <td>3fc287b0fd82918951948c92fe0d2ea7ab866e731362ac...</td>\n",
       "      <td>2019-08-02T21:00:00.000+03:00</td>\n",
       "      <td>0</td>\n",
       "      <td>2019-08-02T21:00:00.000+03:00</td>\n",
       "      <td>2019-08-03T03:48:43.047+03:00</td>\n",
       "    </tr>\n",
       "  </tbody>\n",
       "</table>\n",
       "</div>"
      ],
      "text/plain": [
       "         ID               Activity                  Category  \\\n",
       "0  32394649          Google Chrome                  Browsers   \n",
       "1  32394629         apps.apple.com  Engineering & Technology   \n",
       "2  32394621  metabase.welltory.com         Health & Medicine   \n",
       "3  32394607  business.facebook.com                 Marketing   \n",
       "4  32394634               telegram           Instant Message   \n",
       "\n",
       "                      Created At  Data Revision Metadata  Productivity  \\\n",
       "0  2019-08-03T03:48:43.138+03:00              1       {}             0   \n",
       "1  2019-08-03T03:48:43.012+03:00              1       {}             1   \n",
       "2  2019-08-03T03:48:42.931+03:00              1       {}             1   \n",
       "3  2019-08-03T03:48:42.849+03:00              1       {}             2   \n",
       "4  2019-08-03T03:48:43.047+03:00              1       {}             0   \n",
       "\n",
       "  Refer Date  Seconds Source Group Source Name Source Type  \\\n",
       "0   03-08-19        4   RescueTime  RescueTime         api   \n",
       "1   03-08-19       27   RescueTime  RescueTime         api   \n",
       "2   03-08-19       92   RescueTime  RescueTime         api   \n",
       "3   03-08-19      352   RescueTime  RescueTime         api   \n",
       "4   03-08-19      353   RescueTime  RescueTime         api   \n",
       "\n",
       "                                        Technical ID  \\\n",
       "0  3fc287b0fd82918951948c92fe0d2ea7ab866e731362ac...   \n",
       "1  3fc287b0fd82918951948c92fe0d2ea7ab866e731362ac...   \n",
       "2  3fc287b0fd82918951948c92fe0d2ea7ab866e731362ac...   \n",
       "3  3fc287b0fd82918951948c92fe0d2ea7ab866e731362ac...   \n",
       "4  3fc287b0fd82918951948c92fe0d2ea7ab866e731362ac...   \n",
       "\n",
       "                        Time End  Time Offset                     Time Start  \\\n",
       "0  2019-08-02T21:00:00.000+03:00            0  2019-08-02T21:00:00.000+03:00   \n",
       "1  2019-08-02T21:00:00.000+03:00            0  2019-08-02T21:00:00.000+03:00   \n",
       "2  2019-08-02T21:00:00.000+03:00            0  2019-08-02T21:00:00.000+03:00   \n",
       "3  2019-08-02T21:00:00.000+03:00            0  2019-08-02T21:00:00.000+03:00   \n",
       "4  2019-08-02T21:00:00.000+03:00            0  2019-08-02T21:00:00.000+03:00   \n",
       "\n",
       "                      Updated At  \n",
       "0  2019-08-03T03:48:43.138+03:00  \n",
       "1  2019-08-03T03:48:43.012+03:00  \n",
       "2  2019-08-03T03:48:42.931+03:00  \n",
       "3  2019-08-03T03:48:42.849+03:00  \n",
       "4  2019-08-03T03:48:43.047+03:00  "
      ]
     },
     "execution_count": 2,
     "metadata": {},
     "output_type": "execute_result"
    }
   ],
   "source": [
    "apps = pd.read_csv('all_apps.csv')\n",
    "print(apps.shape)\n",
    "apps.head()"
   ]
  },
  {
   "cell_type": "code",
   "execution_count": 3,
   "metadata": {},
   "outputs": [
    {
     "data": {
      "text/html": [
       "<div>\n",
       "<style scoped>\n",
       "    .dataframe tbody tr th:only-of-type {\n",
       "        vertical-align: middle;\n",
       "    }\n",
       "\n",
       "    .dataframe tbody tr th {\n",
       "        vertical-align: top;\n",
       "    }\n",
       "\n",
       "    .dataframe thead th {\n",
       "        text-align: right;\n",
       "    }\n",
       "</style>\n",
       "<table border=\"1\" class=\"dataframe\">\n",
       "  <thead>\n",
       "    <tr style=\"text-align: right;\">\n",
       "      <th></th>\n",
       "      <th>Data Revision</th>\n",
       "      <th>Productivity</th>\n",
       "      <th>Seconds</th>\n",
       "      <th>Average Productivity</th>\n",
       "    </tr>\n",
       "    <tr>\n",
       "      <th>Category</th>\n",
       "      <th></th>\n",
       "      <th></th>\n",
       "      <th></th>\n",
       "      <th></th>\n",
       "    </tr>\n",
       "  </thead>\n",
       "  <tbody>\n",
       "    <tr>\n",
       "      <th>Accounting</th>\n",
       "      <td>2</td>\n",
       "      <td>2</td>\n",
       "      <td>29</td>\n",
       "      <td>1.0</td>\n",
       "    </tr>\n",
       "    <tr>\n",
       "      <th>Browsers</th>\n",
       "      <td>15</td>\n",
       "      <td>0</td>\n",
       "      <td>181</td>\n",
       "      <td>0.0</td>\n",
       "    </tr>\n",
       "    <tr>\n",
       "      <th>Calendars</th>\n",
       "      <td>2</td>\n",
       "      <td>0</td>\n",
       "      <td>4</td>\n",
       "      <td>0.0</td>\n",
       "    </tr>\n",
       "    <tr>\n",
       "      <th>Customer Relations</th>\n",
       "      <td>2</td>\n",
       "      <td>4</td>\n",
       "      <td>176</td>\n",
       "      <td>2.0</td>\n",
       "    </tr>\n",
       "    <tr>\n",
       "      <th>Editing &amp; IDEs</th>\n",
       "      <td>4</td>\n",
       "      <td>8</td>\n",
       "      <td>355</td>\n",
       "      <td>2.0</td>\n",
       "    </tr>\n",
       "  </tbody>\n",
       "</table>\n",
       "</div>"
      ],
      "text/plain": [
       "                    Data Revision  Productivity  Seconds  Average Productivity\n",
       "Category                                                                      \n",
       "Accounting                      2             2       29                   1.0\n",
       "Browsers                       15             0      181                   0.0\n",
       "Calendars                       2             0        4                   0.0\n",
       "Customer Relations              2             4      176                   2.0\n",
       "Editing & IDEs                  4             8      355                   2.0"
      ]
     },
     "execution_count": 3,
     "metadata": {},
     "output_type": "execute_result"
    }
   ],
   "source": [
    "cats = apps.groupby(['Category']).sum()\n",
    "cats.drop(columns = ['ID', 'Time Offset'], inplace = True)\n",
    "cats_s = cats\n",
    "cats['Average Productivity'] = cats['Productivity']/cats['Data Revision']\n",
    "cats.head()"
   ]
  },
  {
   "cell_type": "code",
   "execution_count": 4,
   "metadata": {},
   "outputs": [],
   "source": [
    "cats_ap = cats.sort_values(by = ['Average Productivity'], ascending = False) # sorted in average productivity descending order\n",
    "cats_p = cats.sort_values(by = ['Productivity'], ascending = False) # sorted in productivity descending order"
   ]
  },
  {
   "cell_type": "code",
   "execution_count": 5,
   "metadata": {},
   "outputs": [
    {
     "data": {
      "image/png": "[encoded data removed]",
      "text/plain": [
       "<Figure size 864x720 with 1 Axes>"
      ]
     },
     "metadata": {},
     "output_type": "display_data"
    }
   ],
   "source": [
    "sns.set(style = 'whitegrid')\n",
    "fig, ax = plt.subplots(figsize = (12, 10))\n",
    "clrs = []\n",
    "for x in cats['Average Productivity']:\n",
    "    if x >= 2:\n",
    "        clrs.append('darkblue')\n",
    "    elif x >= 1 and x < 2:\n",
    "        clrs.append('blue')\n",
    "    elif x > 0 and x < 1:\n",
    "        clrs.append('deepskyblue')\n",
    "    elif x == 0:\n",
    "        clrs.append('green')\n",
    "    elif x > -1 and x < 0:\n",
    "        clrs.append('pink')\n",
    "    elif x > -2 and x <= -1:\n",
    "        clrs.append('red')\n",
    "    else:\n",
    "        clrs.append('firebrick')\n",
    "#clrs = ['navy' if (x == 2) else 'blue' for x in cats_ap['Average Productivity']]\n",
    "sns.barplot(x = 'Seconds', y = cats.index.values, data = cats, palette = clrs)\n",
    "ax.tick_params(labelsize=14)\n",
    "ax.set_xlabel('Seconds', fontsize = 14)\n",
    "plt.show()"
   ]
  },
  {
   "cell_type": "markdown",
   "metadata": {},
   "source": [
    "***\n",
    "*На графике изображены горизонтальные столбцы времени, проводимого пользователем в каждой категории приложений и распределённые по цветам в зависимости от продуктивности (где холодные оттенки - продуктивность; тёплые - деструктивность; зелёный - амёбность, продуктивность = 0).  \n",
    "Можно заметить, что у конкретного пользователя приложения по отправке мгновенных сообщений отнимают намного больше времени, чем остальные, однако при этом по уровню деструктивности они не являются топовыми.*\n",
    "***"
   ]
  },
  {
   "cell_type": "markdown",
   "metadata": {},
   "source": [
    "### Второй датасет"
   ]
  },
  {
   "cell_type": "code",
   "execution_count": 6,
   "metadata": {},
   "outputs": [
    {
     "name": "stdout",
     "output_type": "stream",
     "text": [
      "(13, 62)\n"
     ]
    },
    {
     "data": {
      "text/html": [
       "<div>\n",
       "<style scoped>\n",
       "    .dataframe tbody tr th:only-of-type {\n",
       "        vertical-align: middle;\n",
       "    }\n",
       "\n",
       "    .dataframe tbody tr th {\n",
       "        vertical-align: top;\n",
       "    }\n",
       "\n",
       "    .dataframe thead th {\n",
       "        text-align: right;\n",
       "    }\n",
       "</style>\n",
       "<table border=\"1\" class=\"dataframe\">\n",
       "  <thead>\n",
       "    <tr style=\"text-align: right;\">\n",
       "      <th></th>\n",
       "      <th>ID</th>\n",
       "      <th>All Distracting Duration Formatted</th>\n",
       "      <th>All Distracting Hours</th>\n",
       "      <th>All Distracting Percentage</th>\n",
       "      <th>All Productive Duration Formatted</th>\n",
       "      <th>All Productive Hours</th>\n",
       "      <th>All Productive Percentage</th>\n",
       "      <th>Business Duration Formatted</th>\n",
       "      <th>Business Hours</th>\n",
       "      <th>Business Percentage</th>\n",
       "      <th>...</th>\n",
       "      <th>Uncategorized Percentage</th>\n",
       "      <th>Utilities Duration Formatted</th>\n",
       "      <th>Utilities Hours</th>\n",
       "      <th>Utilities Percentage</th>\n",
       "      <th>Very Distracting Duration Formatted</th>\n",
       "      <th>Very Distracting Hours</th>\n",
       "      <th>Very Distracting Percentage</th>\n",
       "      <th>Very Productive Duration Formatted</th>\n",
       "      <th>Very Productive Hours</th>\n",
       "      <th>Very Productive Percentage</th>\n",
       "    </tr>\n",
       "  </thead>\n",
       "  <tbody>\n",
       "    <tr>\n",
       "      <th>0</th>\n",
       "      <td>431989</td>\n",
       "      <td>9s</td>\n",
       "      <td>0.00</td>\n",
       "      <td>0.0</td>\n",
       "      <td>4m 36s</td>\n",
       "      <td>0.08</td>\n",
       "      <td>1.1</td>\n",
       "      <td>1m 5s</td>\n",
       "      <td>0.02</td>\n",
       "      <td>0.2</td>\n",
       "      <td>...</td>\n",
       "      <td>0.0</td>\n",
       "      <td>3h 47m</td>\n",
       "      <td>3.79</td>\n",
       "      <td>52.3</td>\n",
       "      <td>9s</td>\n",
       "      <td>0.00</td>\n",
       "      <td>0.0</td>\n",
       "      <td>2m 19s</td>\n",
       "      <td>0.04</td>\n",
       "      <td>0.5</td>\n",
       "    </tr>\n",
       "    <tr>\n",
       "      <th>1</th>\n",
       "      <td>431437</td>\n",
       "      <td>32s</td>\n",
       "      <td>0.01</td>\n",
       "      <td>0.1</td>\n",
       "      <td>44m 18s</td>\n",
       "      <td>0.74</td>\n",
       "      <td>9.6</td>\n",
       "      <td>5m 36s</td>\n",
       "      <td>0.09</td>\n",
       "      <td>1.2</td>\n",
       "      <td>...</td>\n",
       "      <td>1.2</td>\n",
       "      <td>3h 50m</td>\n",
       "      <td>3.84</td>\n",
       "      <td>50.0</td>\n",
       "      <td>32s</td>\n",
       "      <td>0.01</td>\n",
       "      <td>0.1</td>\n",
       "      <td>30m 41s</td>\n",
       "      <td>0.51</td>\n",
       "      <td>6.7</td>\n",
       "    </tr>\n",
       "    <tr>\n",
       "      <th>2</th>\n",
       "      <td>430696</td>\n",
       "      <td>36s</td>\n",
       "      <td>0.01</td>\n",
       "      <td>0.2</td>\n",
       "      <td>49m 16s</td>\n",
       "      <td>0.82</td>\n",
       "      <td>12.5</td>\n",
       "      <td>2m 9s</td>\n",
       "      <td>0.04</td>\n",
       "      <td>0.5</td>\n",
       "      <td>...</td>\n",
       "      <td>0.6</td>\n",
       "      <td>3h 4m</td>\n",
       "      <td>3.08</td>\n",
       "      <td>46.9</td>\n",
       "      <td>36s</td>\n",
       "      <td>0.01</td>\n",
       "      <td>0.2</td>\n",
       "      <td>22m 53s</td>\n",
       "      <td>0.38</td>\n",
       "      <td>5.8</td>\n",
       "    </tr>\n",
       "    <tr>\n",
       "      <th>3</th>\n",
       "      <td>430076</td>\n",
       "      <td>27m 17s</td>\n",
       "      <td>0.45</td>\n",
       "      <td>13.1</td>\n",
       "      <td>1h</td>\n",
       "      <td>1.01</td>\n",
       "      <td>29.3</td>\n",
       "      <td>6m 25s</td>\n",
       "      <td>0.11</td>\n",
       "      <td>3.1</td>\n",
       "      <td>...</td>\n",
       "      <td>2.4</td>\n",
       "      <td>3m 3s</td>\n",
       "      <td>0.05</td>\n",
       "      <td>1.5</td>\n",
       "      <td>22m 18s</td>\n",
       "      <td>0.37</td>\n",
       "      <td>10.7</td>\n",
       "      <td>30m 23s</td>\n",
       "      <td>0.51</td>\n",
       "      <td>14.6</td>\n",
       "    </tr>\n",
       "    <tr>\n",
       "      <th>4</th>\n",
       "      <td>429425</td>\n",
       "      <td>39m 2s</td>\n",
       "      <td>0.65</td>\n",
       "      <td>36.7</td>\n",
       "      <td>43m 44s</td>\n",
       "      <td>0.73</td>\n",
       "      <td>41.1</td>\n",
       "      <td>19m 33s</td>\n",
       "      <td>0.33</td>\n",
       "      <td>18.4</td>\n",
       "      <td>...</td>\n",
       "      <td>0.4</td>\n",
       "      <td>1m 43s</td>\n",
       "      <td>0.03</td>\n",
       "      <td>1.6</td>\n",
       "      <td>35m 8s</td>\n",
       "      <td>0.59</td>\n",
       "      <td>33.0</td>\n",
       "      <td>27m 49s</td>\n",
       "      <td>0.46</td>\n",
       "      <td>26.2</td>\n",
       "    </tr>\n",
       "  </tbody>\n",
       "</table>\n",
       "<p>5 rows × 62 columns</p>\n",
       "</div>"
      ],
      "text/plain": [
       "       ID All Distracting Duration Formatted  All Distracting Hours  \\\n",
       "0  431989                                 9s                   0.00   \n",
       "1  431437                                32s                   0.01   \n",
       "2  430696                                36s                   0.01   \n",
       "3  430076                            27m 17s                   0.45   \n",
       "4  429425                             39m 2s                   0.65   \n",
       "\n",
       "   All Distracting Percentage All Productive Duration Formatted  \\\n",
       "0                         0.0                            4m 36s   \n",
       "1                         0.1                           44m 18s   \n",
       "2                         0.2                           49m 16s   \n",
       "3                        13.1                                1h   \n",
       "4                        36.7                           43m 44s   \n",
       "\n",
       "   All Productive Hours  All Productive Percentage  \\\n",
       "0                  0.08                        1.1   \n",
       "1                  0.74                        9.6   \n",
       "2                  0.82                       12.5   \n",
       "3                  1.01                       29.3   \n",
       "4                  0.73                       41.1   \n",
       "\n",
       "  Business Duration Formatted  Business Hours  Business Percentage  \\\n",
       "0                       1m 5s            0.02                  0.2   \n",
       "1                      5m 36s            0.09                  1.2   \n",
       "2                       2m 9s            0.04                  0.5   \n",
       "3                      6m 25s            0.11                  3.1   \n",
       "4                     19m 33s            0.33                 18.4   \n",
       "\n",
       "              ...             Uncategorized Percentage  \\\n",
       "0             ...                                  0.0   \n",
       "1             ...                                  1.2   \n",
       "2             ...                                  0.6   \n",
       "3             ...                                  2.4   \n",
       "4             ...                                  0.4   \n",
       "\n",
       "   Utilities Duration Formatted  Utilities Hours Utilities Percentage  \\\n",
       "0                        3h 47m             3.79                 52.3   \n",
       "1                        3h 50m             3.84                 50.0   \n",
       "2                         3h 4m             3.08                 46.9   \n",
       "3                         3m 3s             0.05                  1.5   \n",
       "4                        1m 43s             0.03                  1.6   \n",
       "\n",
       "   Very Distracting Duration Formatted Very Distracting Hours  \\\n",
       "0                                   9s                   0.00   \n",
       "1                                  32s                   0.01   \n",
       "2                                  36s                   0.01   \n",
       "3                              22m 18s                   0.37   \n",
       "4                               35m 8s                   0.59   \n",
       "\n",
       "   Very Distracting Percentage  Very Productive Duration Formatted  \\\n",
       "0                          0.0                              2m 19s   \n",
       "1                          0.1                             30m 41s   \n",
       "2                          0.2                             22m 53s   \n",
       "3                         10.7                             30m 23s   \n",
       "4                         33.0                             27m 49s   \n",
       "\n",
       "  Very Productive Hours  Very Productive Percentage  \n",
       "0                  0.04                         0.5  \n",
       "1                  0.51                         6.7  \n",
       "2                  0.38                         5.8  \n",
       "3                  0.51                        14.6  \n",
       "4                  0.46                        26.2  \n",
       "\n",
       "[5 rows x 62 columns]"
      ]
     },
     "execution_count": 6,
     "metadata": {},
     "output_type": "execute_result"
    }
   ],
   "source": [
    "df = pd.read_csv('categorized.csv')\n",
    "print(df.shape)\n",
    "df.head()"
   ]
  },
  {
   "cell_type": "markdown",
   "metadata": {},
   "source": [
    "***\n",
    "*Теперь обратимся ко второму датасету. Здесь стоит отметить количество колонок (62), но по факту интерес представляют комбинации колонок (по одной из каждой тройки, отбрасывая 8 штук от всех 62ух, получается 54/3 = 18 троек и 2 колонки с Total временем).*\n",
    "***"
   ]
  },
  {
   "cell_type": "code",
   "execution_count": 7,
   "metadata": {},
   "outputs": [
    {
     "name": "stdout",
     "output_type": "stream",
     "text": [
      "Новое число колонок = 56\n"
     ]
    }
   ],
   "source": [
    "# убираю потенциально неинтересующие меня данные\n",
    "df.drop(['ID', 'Created At', 'Day User', 'Refer Date', 'Time Start', 'Time End'], inplace = True, axis = 1)\n",
    "print('Новое число колонок =', len(df.columns))"
   ]
  },
  {
   "cell_type": "code",
   "execution_count": 8,
   "metadata": {},
   "outputs": [],
   "source": [
    "# переносим Total колонки в конец датасета для более удобного визуального представления\n",
    "cols = df.columns.tolist()\n",
    "cols = cols[:42] + cols[44:] + cols[42:44]\n",
    "df = df[cols]\n",
    "df3 = df.iloc[:, 1::3]"
   ]
  },
  {
   "cell_type": "markdown",
   "metadata": {},
   "source": [
    "***\n",
    "*Так как мною не найдено описание принципа построения Productive/Distracting статистики исходя из статистики категорий/типов приложения, то далее представлен поиск комбинаций колонок (сначала логически, потом проверка верности), которые при сложении приводят к результатам, равным данным числам в Productive/Distracting и Total колонках.*\n",
    "***"
   ]
  },
  {
   "cell_type": "code",
   "execution_count": 9,
   "metadata": {},
   "outputs": [
    {
     "name": "stdout",
     "output_type": "stream",
     "text": [
      "0     0.00\n",
      "1     0.00\n",
      "2     0.00\n",
      "3     0.01\n",
      "4     0.02\n",
      "5    -0.01\n",
      "6     0.00\n",
      "7    -0.01\n",
      "8     0.00\n",
      "9     0.01\n",
      "10    0.00\n",
      "11    0.01\n",
      "12    0.00\n",
      "Name: Total Hours, dtype: float64\n",
      "Вполне вероятно, что присутствует погрешность, которая появилась при переводе минут и секунд в часы.\n"
     ]
    }
   ],
   "source": [
    "# проверка путём суммирования всех категорий. Можно также проверить суммируя All Prod, All Dist и Neutral.\n",
    "df_s = []\n",
    "for i in range(df3.shape[0]):\n",
    "    df_s.append(round(sum(df3.iloc[i, 2:-3])-df3.loc[i,'Neutral Hours']-df3.loc[i,'Productive Hours']-df3.loc[i,'Distracting Hours'], 2))\n",
    "# разница между предполагаемым (рассчитанным) Total и представленным в датасете\n",
    "print(df_s - df3.iloc[:, -1])\n",
    "print('Вполне вероятно, что присутствует погрешность, которая появилась при переводе минут и секунд в часы.')"
   ]
  },
  {
   "cell_type": "markdown",
   "metadata": {},
   "source": [
    "***\n",
    "*Немного непонятно, каким образом в датасете присутствует колонка Productive (Hours and etc.), так как формально данные в ней никак не завязаны на категории приложений (всё время, проведённое в приложениях, суммируется в колонку Very Productive и никак не коррелирует с числами в Productive).  \n",
    "Very Productive и Productive никак не пересекаются, что доказывается тем, что их сумма равна данным в All Productive колонке.  \n",
    "Всё вышенаписанное справедливо в такой же мере и для Distracting статистики. Ниже представлено доказательство численно.*\n",
    "***"
   ]
  },
  {
   "cell_type": "code",
   "execution_count": 10,
   "metadata": {},
   "outputs": [
    {
     "data": {
      "text/plain": [
       "0     0.00\n",
       "1    -0.05\n",
       "2     0.00\n",
       "3    -0.04\n",
       "4     0.01\n",
       "5    -0.01\n",
       "6     0.01\n",
       "7    -0.01\n",
       "8     0.00\n",
       "9    -0.03\n",
       "10    0.00\n",
       "11    0.00\n",
       "12    0.00\n",
       "Name: Very Productive Hours, dtype: float64"
      ]
     },
     "execution_count": 10,
     "metadata": {},
     "output_type": "execute_result"
    }
   ],
   "source": [
    "df_p = []\n",
    "for i in range(df3.shape[0]):\n",
    "    df_p.append(round(df3.loc[i, 'Business Hours']+df3.loc[i, 'Design And Composition Hours']+df3.loc[i, 'Software Development Hours'], 2))\n",
    "df_p-df3.iloc[:,-2]"
   ]
  },
  {
   "cell_type": "markdown",
   "metadata": {},
   "source": [
    "***\n",
    "*Выявленную разницу в некоторых строках нельзя списать на погрешность округления, а значит это демонстрирует что в разные дни разные категории приложений попадают в Productive (и, соответственно, Distracting) списки, что лично мне непонятно.  \n",
    "Алгоритм поиска категорий, линейные комбинации чисел в которых позволили бы получить значения из Total и Productive/Distracting колонок, даст возможность сделать предсказания по увеличению продуктивности более точными для каждого конкретного человека (так как второй датасет не содержит оценок продуктивности, данных пользователем каждой категории; в данном ноутбуке этот алгоритм не ищется).*\n",
    "***"
   ]
  },
  {
   "cell_type": "code",
   "execution_count": 11,
   "metadata": {},
   "outputs": [
    {
     "name": "stdout",
     "output_type": "stream",
     "text": [
      "Список продуктивности по баллам [1, 1, 2, 3, 4, 1, 1, 1, 3, 4, 3, 3, 5]\n"
     ]
    }
   ],
   "source": [
    "# оценка продуктивности (по второму датасету)\n",
    "prod = []\n",
    "for i in range(df3.shape[0]):\n",
    "    prod.append((df3.loc[i, 'All Productive Hours']/df3.loc[i, 'Total Hours'])*9+1)\n",
    "res = [int(x) for x in prod]\n",
    "print('Список продуктивности по баллам', res)"
   ]
  },
  {
   "cell_type": "markdown",
   "metadata": {},
   "source": [
    "***\n",
    "*Такой метод оценки продуктивности крайне тривиален, и имеет очевидные минусы - помимо того, что Distracting статистика учитывается в нём крайне косвенно, он также требует полного совпадения значений Productive и Total для получения 10 баллов, к тому же такой способ похож на методику Rescue Time с простым расчётом процента времени.  \n",
    "Однако, так как мы не роботы пока ещё, то следом представлены чуть откорректированные варианты.*\n",
    "***"
   ]
  },
  {
   "cell_type": "code",
   "execution_count": 12,
   "metadata": {},
   "outputs": [
    {
     "name": "stdout",
     "output_type": "stream",
     "text": [
      "Список продуктивности по баллам [5, 5, 5, 5, 5, 5, 5, 5, 6, 7, 6, 5, 7]\n",
      "Очевидно сильное центрирование на средний балл, плохой вариант расчёта.\n"
     ]
    }
   ],
   "source": [
    "# если считать Neutral деятельность не особо плохой, но и не суперполезной\n",
    "for i in range(df3.shape[0]):\n",
    "    prod[i] = 1 + (df3.loc[i, 'Very Distracting Hours']*0 + df3.loc[i, 'Distracting Hours']*1 + df3.loc[i, 'Neutral Hours']*2 + df3.loc[i, 'Productive Hours']*3 + df3.loc[i, 'Very Productive Hours']*4)/(df3.loc[i, 'Total Hours']*4)*9\n",
    "res = [int(x) for x in prod]\n",
    "print('Список продуктивности по баллам', res)\n",
    "print('Очевидно сильное центрирование на средний балл, плохой вариант расчёта.')"
   ]
  },
  {
   "cell_type": "code",
   "execution_count": 13,
   "metadata": {},
   "outputs": [
    {
     "name": "stdout",
     "output_type": "stream",
     "text": [
      "Список продуктивности по баллам [1, 1, 1, 3, 4, 1, 1, 1, 2, 4, 3, 3, 5]\n",
      "По мнению автора наиболее удачный математический метод расчёта продуктивности дня.\n"
     ]
    }
   ],
   "source": [
    "# если считать Neutral деятельность бесполезной\n",
    "# (отличия от методики Rescue Time лишь в Productive/Very Productive и более прямом учёте Distructing статистики)\n",
    "for i in range(df3.shape[0]):\n",
    "    prod[i] = 1 + (df3.loc[i, 'Distracting Hours']*1 + df3.loc[i, 'Productive Hours']*2 + df3.loc[i, 'Very Productive Hours']*3)/((df3.loc[i, 'Total Hours'])*3)*9\n",
    "res = [int(x) for x in prod]\n",
    "print('Список продуктивности по баллам', res)\n",
    "print('По мнению автора наиболее удачный математический метод расчёта продуктивности дня.')"
   ]
  },
  {
   "cell_type": "markdown",
   "metadata": {},
   "source": [
    "***\n",
    "*Следующий метод не претендует на серьёзность.*\n",
    "***"
   ]
  },
  {
   "cell_type": "code",
   "execution_count": 14,
   "metadata": {},
   "outputs": [
    {
     "name": "stdout",
     "output_type": "stream",
     "text": [
      "Список продуктивности по баллам [10, 9, 9, 5, 4, 9, 6, 10, 7, 7, 8, 6, 9]\n"
     ]
    }
   ],
   "source": [
    "# методика \"Делу время, потехе - час\" (серьёзно не воспринимать, так как пословица)\n",
    "for i in range(df3.shape[0]):\n",
    "    if df3.loc[i, 'All Distracting Hours'] >= 1:\n",
    "        prod[i] = 1\n",
    "    else:\n",
    "        prod[i] = 10 - (df3.loc[i, 'All Distracting Hours']/1)*9\n",
    "res = [int(x) for x in prod]\n",
    "print('Список продуктивности по баллам', res)\n",
    "# логика проста: отдыхаешь больше часа и получаешь единицу продуктивности"
   ]
  },
  {
   "cell_type": "markdown",
   "metadata": {},
   "source": [
    "***\n",
    "*Все эти методы не учитывают способность достигать результата каждым отдельным человеком. Вполне вероятен вариант, когда один пользователь привык и умеет работать продолжительно и качественно, а другому для достижения личного максимума качества труда требуются разумные перерывы или отвлечённая (Neutral) деятельность.  \n",
    "Для такого учёта следует использовать обучение без учителя.*\n",
    "***"
   ]
  }
 ],
 "metadata": {
  "kernelspec": {
   "display_name": "Python 3",
   "language": "python",
   "name": "python3"
  },
  "language_info": {
   "codemirror_mode": {
    "name": "ipython",
    "version": 3
   },
   "file_extension": ".py",
   "mimetype": "text/x-python",
   "name": "python",
   "nbconvert_exporter": "python",
   "pygments_lexer": "ipython3",
   "version": "3.6.5"
  }
 },
 "nbformat": 4,
 "nbformat_minor": 2
}
